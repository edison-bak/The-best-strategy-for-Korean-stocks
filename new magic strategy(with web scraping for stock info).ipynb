{
 "cells": [
  {
   "cell_type": "code",
   "execution_count": 1,
   "id": "f59165ba",
   "metadata": {},
   "outputs": [],
   "source": [
    "from bs4 import BeautifulSoup\n",
    "import pandas as pd\n",
    "import numpy as np\n",
    "import requests\n",
    "import time\n",
    "import os\n",
    "import math\n",
    "global year\n",
    "year=[]"
   ]
  },
  {
   "cell_type": "code",
   "execution_count": 2,
   "id": "b865b953",
   "metadata": {},
   "outputs": [],
   "source": [
    "def get_corp_code():\n",
    "    url = \"http://comp.fnguide.com/XML/Market/CompanyList.txt\"\n",
    "    resp = requests.get(url)\n",
    "    resp.encoding = \"utf-8-sig\"\n",
    "    data = resp.json()\n",
    "    comp = data['Co']\n",
    "    df = pd.DataFrame(data=comp)\n",
    "    cond = df['gb'] == '701'\n",
    "    df2 = df[cond].copy()\n",
    "    return df2"
   ]
  },
  {
   "cell_type": "code",
   "execution_count": 3,
   "id": "5a46ad47",
   "metadata": {},
   "outputs": [
    {
     "data": {
      "text/plain": [
       "'12월 결산'"
      ]
     },
     "execution_count": 3,
     "metadata": {},
     "output_type": "execute_result"
    }
   ],
   "source": [
    "def get_closing_accounts_day(code):\n",
    "    url = f\"https://comp.fnguide.com/SVO2/ASP/SVD_main.asp?pGB=1&gicode=A{code}\"\n",
    "    selector = \"#compBody > div.section.ul_corpinfo > div.corp_group1 >  h2:nth-child(4)\"\n",
    "    resp = requests.get(url)\n",
    "    html = resp.text \n",
    "    soup = BeautifulSoup(html, \"html5lib\")\n",
    "    tags = soup.select(selector)\n",
    "    return tags[0].text\n",
    "get_closing_accounts_day('005930')"
   ]
  },
  {
   "cell_type": "code",
   "execution_count": 4,
   "id": "47dd3c9b",
   "metadata": {},
   "outputs": [
    {
     "data": {
      "text/plain": [
       "[0.24407717198561638, 0.26532553937778997, 0.25018615173791797]"
      ]
     },
     "execution_count": 4,
     "metadata": {},
     "output_type": "execute_result"
    }
   ],
   "source": [
    "def get_gpa(code):\n",
    "    url = f\"http://comp.fnguide.com/SVO2/ASP/SVD_Finance.asp?pGB=1&gicode=A{code}&cID=&MenuYn=Y&ReportGB=&NewMenuID=103&stkGb=701\"\n",
    "    gp=[]\n",
    "    asset=[]\n",
    "    result=[]\n",
    "    try: \n",
    "        dfs = pd.read_html(url)\n",
    "        # gross profit\n",
    "        df = dfs[0]\n",
    "        df.set_index(df.columns[0],inplace=True)\n",
    "        tem3 = df.filter(regex=\".*12$\").columns.tolist()\n",
    "        for i in range(len(tem3)):\n",
    "            year.append(tem3[i][2:4])\n",
    "            \n",
    "        tem = df.filter(regex=\".*12$\").filter(like='매출총이익', axis=0)\n",
    "        for i in range(0,tem.shape[1]):\n",
    "            if math.isnan(tem.iloc[0,i]):\n",
    "                gp.append(np.nan)\n",
    "            else:\n",
    "                gp.append(float(tem.iloc[0,i])*100000000)\n",
    "            \n",
    "        # asset \n",
    "        df3 = dfs[2]\n",
    "        df4 = df3.set_index(df3.columns[0])\n",
    "        tem2 = df4.filter(regex=\".*12$\").filter(like='자산', axis=0)\n",
    "        \n",
    "        for i in range(0,tem2.shape[1]):\n",
    "            if math.isnan(tem2.iloc[0,i]):\n",
    "                asset.append(np.nan)\n",
    "            else:\n",
    "                asset.append(float(tem2.iloc[0,i])*100000000)\n",
    "        #GP/A\n",
    "        for i in range(len(gp)):\n",
    "            result.append(gp[i] / asset[i])\n",
    "    except:\n",
    "        result = np.nan\n",
    "\n",
    "    return result\n",
    "get_gpa('005930')"
   ]
  },
  {
   "cell_type": "code",
   "execution_count": 5,
   "id": "a1b89b1e",
   "metadata": {},
   "outputs": [
    {
     "data": {
      "text/plain": [
       "405945200000000.0"
      ]
     },
     "execution_count": 5,
     "metadata": {},
     "output_type": "execute_result"
    }
   ],
   "source": [
    "def get_cap(code):\n",
    "    url = f\"http://comp.fnguide.com/SVO2/ASP/SVD_Main.asp?pGB=1&gicode=A{code}&cID=&MenuYn=Y&ReportGB=&NewMenuID=101&stkGb=701\"\n",
    "    try:\n",
    "        dfs = pd.read_html(url)\n",
    "        cap = float(dfs[0].iloc[4, 1]) \n",
    "        cap = cap * 100000000 \n",
    "    except:\n",
    "        cap = np.nan\n",
    "    return cap\n",
    "get_cap('005930')"
   ]
  },
  {
   "cell_type": "code",
   "execution_count": 6,
   "id": "acecdbaf",
   "metadata": {},
   "outputs": [
    {
     "data": {
      "text/plain": [
       "[206000000.0, 180000000.0, 109000000.00000001]"
      ]
     },
     "execution_count": 6,
     "metadata": {},
     "output_type": "execute_result"
    }
   ],
   "source": [
    "def get_pbr(code):\n",
    "    url = f\"https://comp.fnguide.com/SVO2/ASP/SVD_Main.asp?pGB=1&gicode=A{code}\"\n",
    "    pbr=[]\n",
    "    try:\n",
    "        dfs = pd.read_html(url)\n",
    "        df5 = dfs[10]\n",
    "        df6 = df5.set_index(df5.columns[0])\n",
    "        tem = df6[\"Annual\"].filter(regex=\".*12$\").filter(like=\"PBR\", axis=0)\n",
    "        for i in range(0,tem.shape[1]):\n",
    "            if tem.iloc[0,i]=='':\n",
    "                pbr.append(np.nan)\n",
    "            else:\n",
    "                pbr.append(float(tem.iloc[0,i])*100000000)  \n",
    "    except:\n",
    "        pbr = 0\n",
    "    return pbr\n",
    "get_pbr('005930')"
   ]
  },
  {
   "cell_type": "code",
   "execution_count": 7,
   "id": "28abc0e6",
   "metadata": {},
   "outputs": [
    {
     "name": "stdout",
     "output_type": "stream",
     "text": [
      "0 060310 ['code', 'name', 'day', 'cap'] ['20', '21', '22']\n",
      "1 095570 ['code', 'name', 'day', 'cap', 'gp/a20', 'gp/a21', 'gp/a22', 'pbr20', 'pbr21', 'pbr22'] ['20', '21', '22']\n",
      "2 006840 ['code', 'name', 'day', 'cap', 'gp/a20', 'gp/a21', 'gp/a22', 'pbr20', 'pbr21', 'pbr22'] ['20', '21', '22']\n",
      "3 054620 ['code', 'name', 'day', 'cap', 'gp/a20', 'gp/a21', 'gp/a22', 'pbr20', 'pbr21', 'pbr22'] ['20', '21', '22']\n",
      "4 265520 ['code', 'name', 'day', 'cap', 'gp/a20', 'gp/a21', 'gp/a22', 'pbr20', 'pbr21', 'pbr22'] ['20', '21', '22']\n",
      "5 211270 ['code', 'name', 'day', 'cap', 'gp/a20', 'gp/a21', 'gp/a22', 'pbr20', 'pbr21', 'pbr22'] ['20', '21', '22']\n",
      "6 027410 ['code', 'name', 'day', 'cap', 'gp/a20', 'gp/a21', 'gp/a22', 'pbr20', 'pbr21', 'pbr22'] ['20', '21', '22']\n",
      "7 282330 ['code', 'name', 'day', 'cap', 'gp/a20', 'gp/a21', 'gp/a22', 'pbr20', 'pbr21', 'pbr22'] ['20', '21', '22']\n",
      "8 126600 ['code', 'name', 'day', 'cap', 'gp/a20', 'gp/a21', 'gp/a22', 'pbr20', 'pbr21', 'pbr22'] ['20', '21', '22']\n"
     ]
    },
    {
     "name": "stderr",
     "output_type": "stream",
     "text": [
      "\n",
      "KeyboardInterrupt\n",
      "\n"
     ]
    }
   ],
   "source": [
    "if not os.path.exists(f\"./data/scraping data2\"):\n",
    "    os.makedirs(f\"./data/scraping data2\")\n",
    "\n",
    "\n",
    "if __name__ == \"__main__\":\n",
    "    df = get_corp_code()\n",
    "    columns = ['code', 'name', 'day', 'cap']\n",
    "    data = []\n",
    "    c=0\n",
    "    \n",
    "    for i in range(len(df)):\n",
    "        data_tem=[]\n",
    "        s = df.iloc[i]\n",
    "        acode = s['cd']\n",
    "        code = acode[1:]\n",
    "        name = s['nm']\n",
    "        \n",
    "        day = get_closing_accounts_day(code)\n",
    "        cap = get_cap(code)\n",
    "        gpa = get_gpa(code) \n",
    "        pbr = get_pbr(code) \n",
    "        \n",
    "        data_tem.append(code)\n",
    "        data_tem.append(name)\n",
    "        data_tem.append(day)\n",
    "        data_tem.append(cap)\n",
    "        \n",
    "        #gpa, pbr\n",
    "        try:\n",
    "            for j in range(0,len(year)):\n",
    "                data_tem.append(gpa[j])\n",
    "                if c==0:\n",
    "                    columns.append('gp/a'+year[j])\n",
    "\n",
    "            for j in range(0,len(year)):\n",
    "                data_tem.append(pbr[j])\n",
    "                if c==0:\n",
    "                    columns.append('pbr'+year[j])\n",
    "                    year_backup=year\n",
    "            if len(year)!=0:\n",
    "                c=1\n",
    "        except:\n",
    "            ()\n",
    "        data.append((data_tem))\n",
    "        print(i,code,columns,year)\n",
    "        year=[]\n",
    "        if (i+1) % 100 == 0:\n",
    "            df1 = pd.DataFrame(data=data, columns=columns)\n",
    "            df1.to_excel(f\"./data/scraping data2/data_{i+1}.xlsx\")\n",
    "            data = []\n",
    "        \n",
    "        time.sleep(0.00001)\n",
    "\n",
    "    # last companies            \n",
    "    df1 = pd.DataFrame(data=data, columns=columns)\n",
    "    df1.to_excel(f\"./data/scraping data2/data_last.xlsx\")"
   ]
  },
  {
   "cell_type": "code",
   "execution_count": 8,
   "id": "fcc551e4",
   "metadata": {},
   "outputs": [],
   "source": [
    "year=year_backup\n",
    "# read excels and concat dataframe\n",
    "xls=os.listdir(f\"data/scraping data2\")\n",
    "dfs=[]\n",
    "for i in xls:\n",
    "# dtype={\"code\":str} : sets the \"code\" column to be of type string (str)\n",
    "    df=pd.read_excel(f\"data/scraping data2/{i}\",index_col=0, dtype={\"code\":str})\n",
    "    dfs.append(df)\n",
    "df=pd.concat(dfs)    "
   ]
  },
  {
   "cell_type": "code",
   "execution_count": 9,
   "id": "6ae04de8",
   "metadata": {},
   "outputs": [
    {
     "name": "stdout",
     "output_type": "stream",
     "text": [
      "Requirement already satisfied: finance-datareader in e:\\anaconda\\lib\\site-packages (0.9.50)\n",
      "Requirement already satisfied: lxml in e:\\anaconda\\lib\\site-packages (from finance-datareader) (4.9.1)\n",
      "Requirement already satisfied: requests-file in e:\\anaconda\\lib\\site-packages (from finance-datareader) (1.5.1)\n",
      "Requirement already satisfied: tqdm in e:\\anaconda\\lib\\site-packages (from finance-datareader) (4.64.1)\n",
      "Requirement already satisfied: pandas>=0.19.2 in e:\\anaconda\\lib\\site-packages (from finance-datareader) (1.5.3)\n",
      "Requirement already satisfied: requests>=2.3.0 in e:\\anaconda\\lib\\site-packages (from finance-datareader) (2.28.1)\n",
      "Requirement already satisfied: pytz>=2020.1 in e:\\anaconda\\lib\\site-packages (from pandas>=0.19.2->finance-datareader) (2022.7)\n",
      "Requirement already satisfied: python-dateutil>=2.8.1 in e:\\anaconda\\lib\\site-packages (from pandas>=0.19.2->finance-datareader) (2.8.2)\n",
      "Requirement already satisfied: numpy>=1.21.0 in e:\\anaconda\\lib\\site-packages (from pandas>=0.19.2->finance-datareader) (1.23.5)\n",
      "Requirement already satisfied: urllib3<1.27,>=1.21.1 in e:\\anaconda\\lib\\site-packages (from requests>=2.3.0->finance-datareader) (1.26.14)\n",
      "Requirement already satisfied: idna<4,>=2.5 in e:\\anaconda\\lib\\site-packages (from requests>=2.3.0->finance-datareader) (3.4)\n",
      "Requirement already satisfied: certifi>=2017.4.17 in e:\\anaconda\\lib\\site-packages (from requests>=2.3.0->finance-datareader) (2022.12.7)\n",
      "Requirement already satisfied: charset-normalizer<3,>=2 in e:\\anaconda\\lib\\site-packages (from requests>=2.3.0->finance-datareader) (2.0.4)\n",
      "Requirement already satisfied: six in e:\\anaconda\\lib\\site-packages (from requests-file->finance-datareader) (1.16.0)\n",
      "Requirement already satisfied: colorama in e:\\anaconda\\lib\\site-packages (from tqdm->finance-datareader) (0.4.6)\n"
     ]
    }
   ],
   "source": [
    "!pip install finance-datareader"
   ]
  },
  {
   "cell_type": "code",
   "execution_count": 10,
   "id": "962be6c9",
   "metadata": {},
   "outputs": [
    {
     "data": {
      "text/plain": [
       "54300000000.0"
      ]
     },
     "execution_count": 10,
     "metadata": {},
     "output_type": "execute_result"
    }
   ],
   "source": [
    "#Bottom 20% by market cap\n",
    "index=int(df.shape[0]*0.2)\n",
    "cap_bound=df.sort_values(by='cap').iloc[index-1]['cap']\n",
    "cap_bound"
   ]
  },
  {
   "cell_type": "code",
   "execution_count": 11,
   "id": "748f06cf",
   "metadata": {},
   "outputs": [
    {
     "name": "stdout",
     "output_type": "stream",
     "text": [
      "return( 21 ) : 0.9070092845409441\n",
      "return( 22 ) : -0.22608520215193958\n",
      "New_magic formula_cumulative_return : 0.4758627049398789\n",
      "New_magic formula_return(CAGR) : 0.1385409426964952\n"
     ]
    }
   ],
   "source": [
    "import FinanceDataReader as fdr\n",
    "cumulative_return=1\n",
    "\n",
    "for i in range(0,len(year)-1):\n",
    "    df=pd.concat(dfs)\n",
    "    index=int(df.shape[0]*0.2)\n",
    "    cap_bound=df.sort_values(by='cap').iloc[index-1]['cap']\n",
    "    cond=df['day']==\"12월 결산\"\n",
    "    df=df[cond]\n",
    "    cond=(df['gp/a'+year[i]]>0)&(df['pbr'+year[i]]>0)\n",
    "    df2=df[cond].copy()\n",
    "    df2['rank1']=df2['gp/a'+year[i]].rank(ascending=False)\n",
    "    df2['rank2']=df2['pbr'+year[i]].rank()\n",
    "    df2['rank']=df2['rank1']+df2['rank2']\n",
    "    df3=df2.sort_values(by='rank')\n",
    "    cond=df3['cap']<cap_bound\n",
    "    df3=df3[cond].head(n=30)\n",
    "    Return_list=[]\n",
    "    for j in range(0,df3.shape[0]):\n",
    "        try:\n",
    "            df=fdr.DataReader(symbol=df3.iloc[j,0])\n",
    "            df1=df.loc[df.index.year == int('20'+year[i+1])]\n",
    "            Return=(df1.iloc[-1]['Close']-df1.iloc[0]['Close'])/df1.iloc[0]['Close']\n",
    "            Return_list.append(Return)\n",
    "        except:\n",
    "            ()\n",
    "    print('return(',int(year[i+1]),') :',sum(Return_list)/len(Return_list))\n",
    "    cumulative_return*=1+sum(Return_list)/len(Return_list)\n",
    "print('New_magic formula_cumulative_return :',cumulative_return-1)\n",
    "print('New_magic formula_return(CAGR) :',cumulative_return**(1/3)-1)"
   ]
  },
  {
   "cell_type": "code",
   "execution_count": 12,
   "id": "45e88a98",
   "metadata": {},
   "outputs": [
    {
     "name": "stdout",
     "output_type": "stream",
     "text": [
      "kosdaq 150 return( 21 ) : -0.01185194994371979\n",
      "kosdaq 150 return( 22 ) : -0.35513767629281395\n",
      "cumulative_kosdaq_return : -0.3627805522739824\n",
      "kosdaq_return(CAGR) : -0.13947596039798738\n"
     ]
    }
   ],
   "source": [
    "df=fdr.DataReader(symbol='229200')\n",
    "cumulative_kosdaq_return=1\n",
    "for i in range(0,len(year)-1):\n",
    "    df1=df.loc[df.index.year == int('20'+year[i+1])]\n",
    "    kosdaq_return=(df1.iloc[-1]['Close']-df1.iloc[0]['Close'])/df1.iloc[0]['Close']\n",
    "    print(\"kosdaq 150 return(\",int(year[i+1]),') :',kosdaq_return)\n",
    "    cumulative_kosdaq_return*=kosdaq_return+1\n",
    "print('cumulative_kosdaq_return :',cumulative_kosdaq_return-1)  \n",
    "print('kosdaq_return(CAGR) :',cumulative_kosdaq_return**(1/3)-1  )"
   ]
  }
 ],
 "metadata": {
  "kernelspec": {
   "display_name": "Python 3 (ipykernel)",
   "language": "python",
   "name": "python3"
  },
  "language_info": {
   "codemirror_mode": {
    "name": "ipython",
    "version": 3
   },
   "file_extension": ".py",
   "mimetype": "text/x-python",
   "name": "python",
   "nbconvert_exporter": "python",
   "pygments_lexer": "ipython3",
   "version": "3.10.9"
  }
 },
 "nbformat": 4,
 "nbformat_minor": 5
}
